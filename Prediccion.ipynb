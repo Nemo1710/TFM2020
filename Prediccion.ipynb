{
 "cells": [
  {
   "cell_type": "code",
   "execution_count": 3,
   "metadata": {},
   "outputs": [
    {
     "name": "stdout",
     "output_type": "stream",
     "text": [
      "dsad\n"
     ]
    }
   ],
   "source": [
    "print(\"dsad\")"
   ]
  },
  {
   "cell_type": "code",
   "execution_count": 17,
   "metadata": {},
   "outputs": [
    {
     "name": "stdout",
     "output_type": "stream",
     "text": [
      "Año 2018\n",
      "[2520.0, 1568.0, 2016.0, 2072.0, 2016.0, 2744.0, 2576.0, 3360.0, 3472.0, 2968.0, 2870.0, 3122.0]\n",
      "Año 2019\n",
      "[3024.0, 2632.0, 3080.0, 2968.0, 2352.0, 3248.0, 3584.0, 2352.0, 3080.0, 3248.0, 3780.0, 2800.0]\n",
      "2608.6666666666665\n",
      "2660.0\n",
      "3472.0\n",
      "1568.0\n",
      "3012.3333333333335\n",
      "3052.0\n",
      "3780.0\n",
      "2352.0\n"
     ]
    }
   ],
   "source": [
    "from pymongo import MongoClient\n",
    "client = MongoClient('167.172.192.210',27017,username='cvenegas',password='mijitrin***',authSource='admin')\n",
    "db=client[\"facturas\"]\n",
    "coleccion = db['listado']\n",
    "myquery = { \"CodigoProducto\": \"4396\" }\n",
    "mydoc = coleccion.find(myquery)\n",
    "ano2018=[]\n",
    "ano2019=[]\n",
    "for x in mydoc:\n",
    "    ano2018=[x[\"enero2018\"],x[\"febrero2018\"],x[\"marzo2018\"],x[\"abril2018\"],x[\"mayo2018\"],x[\"junio2018\"],\\\n",
    "             x[\"julio2018\"],x[\"agosto2018\"],x[\"septiembre2018\"],x[\"octubre2018\"],x[\"noviembre2018\"],\\\n",
    "             x[\"diciembre2018\"]]\n",
    "    ano2019=[x[\"enero2019\"],x[\"febrero2019\"],x[\"marzo2019\"],x[\"abril2019\"],x[\"mayo2019\"],x[\"junio2019\"],\\\n",
    "             x[\"julio2019\"],x[\"agosto2019\"],x[\"septiembre2019\"],x[\"octubre2019\"],x[\"noviembre2019\"],\\\n",
    "             x[\"diciembre2019\"]]\n",
    "print(\"Año 2018\")    \n",
    "print(ano2018)\n",
    "print(\"Año 2019\")\n",
    "print(ano2019)\n",
    "anios=[ano2018,ano2019]\n",
    "from statistics import mean, median\n",
    "for i in anios:\n",
    "    \n",
    "    avg_value = mean(i)\n",
    "    median_value = median(i)\n",
    "    minimo = max(i)\n",
    "    maximo = min(i)\n",
    "\n",
    "    print(avg_value)\n",
    "    print(median_value)\n",
    "    print(minimo)\n",
    "    print(maximo)\n"
   ]
  },
  {
   "cell_type": "code",
   "execution_count": null,
   "metadata": {},
   "outputs": [],
   "source": []
  }
 ],
 "metadata": {
  "kernelspec": {
   "display_name": "Python 3",
   "language": "python",
   "name": "python3"
  },
  "language_info": {
   "codemirror_mode": {
    "name": "ipython",
    "version": 3
   },
   "file_extension": ".py",
   "mimetype": "text/x-python",
   "name": "python",
   "nbconvert_exporter": "python",
   "pygments_lexer": "ipython3",
   "version": "3.7.3"
  }
 },
 "nbformat": 4,
 "nbformat_minor": 2
}
